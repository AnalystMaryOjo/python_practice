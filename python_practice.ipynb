{
 "cells": [
  {
   "cell_type": "code",
   "execution_count": 1,
   "id": "9e248db0-2985-4221-837e-2c9055d75d06",
   "metadata": {},
   "outputs": [
    {
     "name": "stdin",
     "output_type": "stream",
     "text": [
      "enter first number 34\n",
      "enter second number 44\n"
     ]
    },
    {
     "name": "stdout",
     "output_type": "stream",
     "text": [
      "78.0\n"
     ]
    }
   ],
   "source": [
    "#building a calculator.\n",
    "\n",
    "a = float(input('enter first number'))\n",
    "b =float(input('enter second number'))\n",
    "c = a+b\n",
    "print(c)\n"
   ]
  },
  {
   "cell_type": "code",
   "execution_count": 2,
   "id": "3ab81d14-c051-435f-8e77-66e15046a805",
   "metadata": {},
   "outputs": [
    {
     "name": "stdout",
     "output_type": "stream",
     "text": [
      "1345\n"
     ]
    }
   ],
   "source": [
    "mary = 500\n",
    "unison = 175\n",
    "allie =670\n",
    "total = mary + unison + allie\n",
    "print(total)\n"
   ]
  },
  {
   "cell_type": "code",
   "execution_count": 12,
   "id": "5bd65874-c600-4537-9fb9-a1926bc5cc94",
   "metadata": {},
   "outputs": [
    {
     "name": "stdout",
     "output_type": "stream",
     "text": [
      "False\n"
     ]
    }
   ],
   "source": [
    "print(mary == 250)\n"
   ]
  },
  {
   "cell_type": "code",
   "execution_count": 6,
   "id": "f785e3e9-2872-4eb3-b84b-95b2b42b9588",
   "metadata": {},
   "outputs": [
    {
     "name": "stdout",
     "output_type": "stream",
     "text": [
      "False\n"
     ]
    }
   ],
   "source": [
    "print(unison != 175)\n"
   ]
  },
  {
   "cell_type": "code",
   "execution_count": 13,
   "id": "99c02c1b-cfda-4d12-bf2d-24d2add04888",
   "metadata": {},
   "outputs": [
    {
     "name": "stdout",
     "output_type": "stream",
     "text": [
      "True\n",
      "True\n",
      "True\n"
     ]
    }
   ],
   "source": [
    "print(mary > unison)\n",
    "print(mary <= allie)\n",
    "print(allie > mary)"
   ]
  },
  {
   "cell_type": "code",
   "execution_count": 11,
   "id": "7c1c889f-dbf5-42f3-8680-b91eb5e1b494",
   "metadata": {},
   "outputs": [
    {
     "name": "stdout",
     "output_type": "stream",
     "text": [
      "try again\n"
     ]
    }
   ],
   "source": [
    "#conditional statement\n",
    "if mary == 250:\n",
    "    print('success')\n",
    "else:\n",
    "    print('try again')"
   ]
  },
  {
   "cell_type": "code",
   "execution_count": 15,
   "id": "967b6064-dd2b-4aa1-8b31-212f4e2c6cc3",
   "metadata": {},
   "outputs": [
    {
     "name": "stdout",
     "output_type": "stream",
     "text": [
      "no\n"
     ]
    }
   ],
   "source": [
    "#conditional statement.\n",
    "if allie != 450:\n",
    "    print('no')\n",
    "elif allie > 670:\n",
    "    print('success')\n",
    "else:\n",
    "    print('i dont know')\n",
    "    "
   ]
  },
  {
   "cell_type": "code",
   "execution_count": 7,
   "id": "4f384f33-32f2-4e2e-90ec-157887adbef0",
   "metadata": {},
   "outputs": [
    {
     "name": "stdout",
     "output_type": "stream",
     "text": [
      "[1, 2, 0, 8, 6, 4, 12]\n"
     ]
    }
   ],
   "source": [
    "#containers\n",
    "list = [1,2,0,8,6,4]           \n",
    "#append(add to)\n",
    "list.append(12)\n",
    "\n",
    "print(list)"
   ]
  },
  {
   "cell_type": "code",
   "execution_count": 9,
   "id": "69f0d427-4748-42d7-9834-4c026155bcf7",
   "metadata": {},
   "outputs": [
    {
     "name": "stdout",
     "output_type": "stream",
     "text": [
      "12\n",
      "8\n"
     ]
    }
   ],
   "source": [
    "#index\n",
    "print(list[-1])\n",
    "print(list[3])"
   ]
  },
  {
   "cell_type": "code",
   "execution_count": 13,
   "id": "b1c33853-a87c-40a9-8bfe-8eef334c1e32",
   "metadata": {},
   "outputs": [
    {
     "name": "stdout",
     "output_type": "stream",
     "text": [
      "4\n"
     ]
    }
   ],
   "source": [
    "print(list[-1])            #nagative index access data from the bottom. positive indexaccess data from the top.\n",
    "#head means accessing the first 5data from the top. tail is to access the first 5 data from the bottom."
   ]
  },
  {
   "cell_type": "code",
   "execution_count": 17,
   "id": "d093824c-99f3-404b-9d00-d6cfb6507e76",
   "metadata": {},
   "outputs": [
    {
     "name": "stdout",
     "output_type": "stream",
     "text": [
      "[0, 8, 6, 4]\n"
     ]
    }
   ],
   "source": [
    "print(list[2:6])     #slicing fetches record within a range with indexing formular in mind i.e every first ints is indexing '0'"
   ]
  },
  {
   "cell_type": "code",
   "execution_count": 21,
   "id": "c438d158-0663-4724-9396-35d8e05e7c67",
   "metadata": {},
   "outputs": [
    {
     "name": "stdout",
     "output_type": "stream",
     "text": [
      "{'a': 'rice', 'b': 'beans', 'c': 'corn', 'amount': 2000, 'loc': 'ngn'}\n",
      "<class 'dict'>\n"
     ]
    }
   ],
   "source": [
    "#dictionary contains key value pairs, aka JSON. key on the left whilr the value is on the right and they are alway \n",
    "#in a quotation mark and accomplied b a double colon.\n",
    "\n",
    "dict = {\n",
    "    'a': 'rice',\n",
    "    'b': 'beans',\n",
    "    'c': 'corn',\n",
    "    'amount': 2000,\n",
    "    'loc': 'ngn'\n",
    "}\n",
    "print(dict)\n",
    "print(type(dict))"
   ]
  },
  {
   "cell_type": "code",
   "execution_count": 20,
   "id": "1c21cc94-6353-4064-bf2f-0422a07e2306",
   "metadata": {},
   "outputs": [
    {
     "name": "stdout",
     "output_type": "stream",
     "text": [
      "<class 'tuple'>\n",
      "(1, 2, 3, 4, 5, 6, 7)\n"
     ]
    }
   ],
   "source": [
    "#tuple\n",
    "tup=(1,2,3,4,5,6,7)\n",
    "print(type(tup))\n",
    "print(tup)"
   ]
  },
  {
   "cell_type": "code",
   "execution_count": 24,
   "id": "1ec40ce6-d050-4e29-99c3-fad3b2b54a36",
   "metadata": {},
   "outputs": [
    {
     "name": "stdout",
     "output_type": "stream",
     "text": [
      "<class 'set'>\n",
      "{'c', 'd', 'e', 'a', 'b'}\n"
     ]
    }
   ],
   "source": [
    "#set: collection of items(strings only)\n",
    "set = {'a','b','c','d','e'}\n",
    "print(type(set))\n",
    "print(set)"
   ]
  },
  {
   "cell_type": "code",
   "execution_count": 4,
   "id": "ebd79996-33cf-4d00-a376-ceab0d190fcb",
   "metadata": {},
   "outputs": [
    {
     "name": "stdout",
     "output_type": "stream",
     "text": [
      "[61, 66, 87, 90, 55, 500, 112, 86, 45, 235, 100]\n"
     ]
    }
   ],
   "source": [
    "list =[61,66,87,90,55,500,112,86,45,235]\n",
    "list.append(100)\n",
    "print(list)\n"
   ]
  },
  {
   "cell_type": "code",
   "execution_count": 17,
   "id": "c25a6253-a763-4ce6-b9cc-a140ae363764",
   "metadata": {},
   "outputs": [
    {
     "name": "stdout",
     "output_type": "stream",
     "text": [
      "[23, 45, 67, 87, 'toy', 'pen', 3.5]\n"
     ]
    }
   ],
   "source": [
    "m = [23,45,67,87,'toy','pen',3.5]\n",
    "print(m)"
   ]
  },
  {
   "cell_type": "code",
   "execution_count": 21,
   "id": "88a88bf5-aab8-4415-9e62-ac58f19edd40",
   "metadata": {},
   "outputs": [
    {
     "name": "stdout",
     "output_type": "stream",
     "text": [
      "[23, 45, 87, 'toy', 'pen', 3.5]\n"
     ]
    }
   ],
   "source": [
    "m.remove(67)\n",
    "print(m)"
   ]
  },
  {
   "cell_type": "code",
   "execution_count": 13,
   "id": "35f8c12b-dc61-445f-b05b-777a7fba7ef7",
   "metadata": {},
   "outputs": [
    {
     "name": "stdout",
     "output_type": "stream",
     "text": [
      "[12, 13, 14, 15, 16, 17]\n"
     ]
    }
   ],
   "source": [
    "r = [12,13,14,15,16,17]\n",
    "print(r)"
   ]
  },
  {
   "cell_type": "code",
   "execution_count": 15,
   "id": "6763049d-8d50-4e52-ab6d-f6f97bbdd0f3",
   "metadata": {},
   "outputs": [
    {
     "name": "stdout",
     "output_type": "stream",
     "text": [
      "[12, 13, 14, 15, 16, 17, 66]\n"
     ]
    }
   ],
   "source": [
    "r.append(66)\n",
    "print(r)"
   ]
  },
  {
   "cell_type": "code",
   "execution_count": 3,
   "id": "facc6d96-e1fd-4812-a3ac-e9ad5ffe90e6",
   "metadata": {},
   "outputs": [
    {
     "name": "stdout",
     "output_type": "stream",
     "text": [
      "[23, 54, 66, 'toy', 'phyton']\n"
     ]
    }
   ],
   "source": [
    "y = [23,54,66,'toy','phyton']\n",
    "print(y)"
   ]
  },
  {
   "cell_type": "code",
   "execution_count": 4,
   "id": "fb63c756-59f4-4da5-ab3d-fcbcbffc4530",
   "metadata": {
    "scrolled": true
   },
   "outputs": [
    {
     "name": "stdout",
     "output_type": "stream",
     "text": [
      "[23, 66, 'toy', 'phyton']\n"
     ]
    }
   ],
   "source": [
    "y.remove(54)\n",
    "print(y)"
   ]
  },
  {
   "cell_type": "code",
   "execution_count": 28,
   "id": "1a073658-ac90-476f-bc8d-7abd7fab22e1",
   "metadata": {},
   "outputs": [
    {
     "name": "stdout",
     "output_type": "stream",
     "text": [
      "[12, 23, 34, 67, 3.5]\n"
     ]
    }
   ],
   "source": [
    "b = [12,23,34,67,3.5]\n",
    "print(b)\n"
   ]
  },
  {
   "cell_type": "code",
   "execution_count": 21,
   "id": "f12d2d01-8587-4fd5-8c4e-f18b765169d0",
   "metadata": {},
   "outputs": [
    {
     "name": "stdout",
     "output_type": "stream",
     "text": [
      "[]\n"
     ]
    }
   ],
   "source": [
    "a = [1,2,3,4,5,6,7]\n",
    "a.clear()\n",
    "print(a)"
   ]
  },
  {
   "cell_type": "code",
   "execution_count": 3,
   "id": "450bc282-b13f-4238-8bbd-80d3c4f495ad",
   "metadata": {},
   "outputs": [
    {
     "name": "stdout",
     "output_type": "stream",
     "text": [
      "[1, 2, 3, 4, 6, 8]\n"
     ]
    }
   ],
   "source": [
    "a = [1,2,3,4,6,8]\n",
    "a.copy()\n",
    "print(a)"
   ]
  },
  {
   "cell_type": "code",
   "execution_count": 10,
   "id": "8de87633-88d8-4442-95e7-4f9037a4ecd8",
   "metadata": {},
   "outputs": [
    {
     "name": "stdout",
     "output_type": "stream",
     "text": [
      "1\n"
     ]
    }
   ],
   "source": [
    "a = [32,56,78,90]\n",
    "can = a.count(56) \n",
    "\n",
    "print(can)             \n",
    "#the first variable holds the list while the second variable holds the method 'count' that returns the number of count in the list."
   ]
  },
  {
   "cell_type": "code",
   "execution_count": 9,
   "id": "c0d483ba-ab76-4c40-8f08-85dda9954c5e",
   "metadata": {},
   "outputs": [
    {
     "name": "stdout",
     "output_type": "stream",
     "text": [
      "2\n"
     ]
    }
   ],
   "source": [
    "x = ['mary',1,2,2.5,2,1,'mary']\n",
    "a = x.count('mary')\n",
    "print(a)"
   ]
  },
  {
   "cell_type": "code",
   "execution_count": 11,
   "id": "9863cc5b-e680-4fda-8437-de4d6ebdd107",
   "metadata": {
    "scrolled": true
   },
   "outputs": [
    {
     "name": "stdout",
     "output_type": "stream",
     "text": [
      "3\n"
     ]
    }
   ],
   "source": [
    "list = [1,1,1,3,4,6,8]\n",
    "count = list.count(1)\n",
    "print(count)"
   ]
  },
  {
   "cell_type": "code",
   "execution_count": 12,
   "id": "0feb484d-dd79-4fb3-a82e-7033d49b84de",
   "metadata": {},
   "outputs": [
    {
     "name": "stdout",
     "output_type": "stream",
     "text": [
      "2\n"
     ]
    }
   ],
   "source": [
    "list = [1,2,3,4,5]\n",
    "lst = list.index(3)\n",
    "print(lst)"
   ]
  },
  {
   "cell_type": "code",
   "execution_count": 14,
   "id": "e1f538a9-7087-4ad5-baac-1eba0217ee5d",
   "metadata": {},
   "outputs": [
    {
     "name": "stdout",
     "output_type": "stream",
     "text": [
      "[6, 0, 4, 3.3, 'gb', 67, 'tat', 4.5]\n"
     ]
    }
   ],
   "source": [
    "yam = [6,0,4,3.3]\n",
    "rice = ['gb',67,'tat',4.5]\n",
    "yam.extend(rice)\n",
    "print(yam)"
   ]
  },
  {
   "cell_type": "code",
   "execution_count": 23,
   "id": "fef15bb9-c17a-45e2-9dc6-f8befac9dd2e",
   "metadata": {},
   "outputs": [
    {
     "name": "stdout",
     "output_type": "stream",
     "text": [
      "[66, 56, 90, 82, 'dog', 'gum']\n",
      "56\n"
     ]
    }
   ],
   "source": [
    "ist = [56,90,82,'dog','gum']\n",
    "ist.insert(0,66) \n",
    "print(ist)                          \n",
    "#index value(IV)\n",
    "print(ist.pop(1))\n"
   ]
  },
  {
   "cell_type": "code",
   "execution_count": 25,
   "id": "65e6a60c-c73c-4a35-8596-ad4a1d78b9c4",
   "metadata": {
    "scrolled": true
   },
   "outputs": [
    {
     "name": "stdout",
     "output_type": "stream",
     "text": [
      "90\n"
     ]
    }
   ],
   "source": [
    "ist = [56,90,82,'dog','gum']\n",
    "print(ist.pop(1))"
   ]
  },
  {
   "cell_type": "code",
   "execution_count": 28,
   "id": "04c96355-6748-4bc5-81b2-e30c2fa257b8",
   "metadata": {},
   "outputs": [
    {
     "name": "stdout",
     "output_type": "stream",
     "text": [
      "[1000, 56, 90, 5, 4, 3, 78, 1]\n",
      "[1, 3, 4, 5, 56, 78, 90, 1000]\n"
     ]
    }
   ],
   "source": [
    "boy = [1,78,3,4,5,90,56,1000]\n",
    "boy.reverse()\n",
    "print(boy)\n",
    "boy.sort()\n",
    "print(boy)\n",
    "#the first print(reverses) statement reverses the list while the second print statement(sort) arranges the list item in order."
   ]
  },
  {
   "cell_type": "code",
   "execution_count": 30,
   "id": "e0dfdbad-b9fb-49c8-bf90-ccf2d6e5a3c7",
   "metadata": {},
   "outputs": [
    {
     "name": "stdout",
     "output_type": "stream",
     "text": [
      "7500010000000000\n"
     ]
    }
   ],
   "source": [
    "#functions in python\n",
    "#collection of instruction\n",
    "#we have created functions and global functions i.e precreated functions that are globally accepted for use.\n",
    "#to declear a function in python you use 'def'.\n",
    "\n",
    "def addnums(a,b):     #i declear\n",
    "    return a+b        #real operation     \n",
    "result = addnums(10000000000,7500000000000000)      #the result\n",
    "print(result)\n"
   ]
  },
  {
   "cell_type": "code",
   "execution_count": 32,
   "id": "c9496e36-f370-4f7d-9601-9ba1fb2d6192",
   "metadata": {},
   "outputs": [
    {
     "name": "stdout",
     "output_type": "stream",
     "text": [
      "42560\n"
     ]
    }
   ],
   "source": [
    "def multiplynums(y,p):\n",
    "    return y*p\n",
    "resut = multiplynums(560,76)\n",
    "print(resut)\n"
   ]
  },
  {
   "cell_type": "code",
   "execution_count": 34,
   "id": "1a58b197-9801-44e3-b89d-1a3f3d9e531f",
   "metadata": {},
   "outputs": [
    {
     "name": "stdout",
     "output_type": "stream",
     "text": [
      "valid\n"
     ]
    }
   ],
   "source": [
    "def agerange(age):\n",
    "    if age >= 10:\n",
    "        return 'valid'\n",
    "    elif age < 10:\n",
    "        return 'too young'\n",
    "    else:\n",
    "        return 'i dont know'\n",
    "result = agerange(13)\n",
    "print(result)"
   ]
  },
  {
   "cell_type": "code",
   "execution_count": 5,
   "id": "5612b03d-1089-4807-881f-0071ef5a8c4a",
   "metadata": {},
   "outputs": [
    {
     "name": "stdout",
     "output_type": "stream",
     "text": [
      "<class 'str'>\n"
     ]
    }
   ],
   "source": [
    "def determinetype(nums):\n",
    "    return type(nums)\n",
    "result = determinetype('toy')\n",
    "print(result)"
   ]
  },
  {
   "cell_type": "code",
   "execution_count": 7,
   "id": "d8b31c17-098d-4734-9dc4-1de63301aacd",
   "metadata": {},
   "outputs": [
    {
     "name": "stdout",
     "output_type": "stream",
     "text": [
      "848635.0\n"
     ]
    }
   ],
   "source": [
    "#currency conventer from pounds to naira\n",
    "\n",
    "def poundsnaira(pounds):\n",
    "    return pounds*1697.27\n",
    "result = poundsnaira(500)\n",
    "print(result)\n",
    "\n",
    "#our results are always calling the function with the arguement."
   ]
  },
  {
   "cell_type": "code",
   "execution_count": 18,
   "id": "01b38818-993c-48ec-bc58-fa011ad43d74",
   "metadata": {},
   "outputs": [
    {
     "name": "stdout",
     "output_type": "stream",
     "text": [
      "[0, 1, 2, 3, 5, 7, 9]\n",
      "[0, 1, 2, 3, 5, 7, 9]\n"
     ]
    }
   ],
   "source": [
    "#write a function to tell Pamilerin if his order of numbering is correct or not.\n",
    "\n",
    "list = [1,5,7,3,2,0,9]\n",
    "def crt_order(nums):\n",
    "    nums.sort()\n",
    "    return list\n",
    "result = crt_order(list)\n",
    "print(result)\n",
    "\n",
    "\n",
    "\n",
    "\n",
    "\n",
    "\n",
    "\n",
    "\n",
    "my_list = [1, 5, 7, 3, 2, 0, 9]\n",
    "\n",
    "def crt_order(lst):\n",
    "    lst.sort()\n",
    "    return lst\n",
    "\n",
    "result = crt_order(my_list)\n",
    "print(result)\n",
    "\n",
    "    \n",
    "    "
   ]
  },
  {
   "cell_type": "code",
   "execution_count": 9,
   "id": "9efff478-8ab1-40b8-9345-d757e80b8790",
   "metadata": {},
   "outputs": [
    {
     "name": "stdout",
     "output_type": "stream",
     "text": [
      "hello good morning\n"
     ]
    }
   ],
   "source": [
    "def greet(hello):\n",
    "    return hello\n",
    "result = greet('hello good morning')\n",
    "print(result)\n",
    "\n"
   ]
  },
  {
   "cell_type": "code",
   "execution_count": 6,
   "id": "677cd19c-3d8d-4c3d-846a-6e1b2a24ecf5",
   "metadata": {},
   "outputs": [
    {
     "name": "stdout",
     "output_type": "stream",
     "text": [
      "mary\n"
     ]
    }
   ],
   "source": [
    "def myname(mary):\n",
    "    return mary\n",
    "result = myname('mary')\n",
    "print(result)\n"
   ]
  },
  {
   "cell_type": "code",
   "execution_count": 8,
   "id": "6cd7af82-c516-4869-895f-d6c874a0631e",
   "metadata": {},
   "outputs": [
    {
     "name": "stdout",
     "output_type": "stream",
     "text": [
      "happy\n"
     ]
    }
   ],
   "source": [
    "def mymood(happy):\n",
    "    return happy\n",
    "\n",
    "result = mymood('happy')\n",
    "print(result)"
   ]
  },
  {
   "cell_type": "code",
   "execution_count": 10,
   "id": "94d60ce4-c618-48ec-853a-33f38b3e54e4",
   "metadata": {},
   "outputs": [
    {
     "name": "stdout",
     "output_type": "stream",
     "text": [
      "Welcome to the Happiness Detector!\n",
      "Answer the following questions to find out if you're happy:\n"
     ]
    },
    {
     "name": "stdin",
     "output_type": "stream",
     "text": [
      "Question 1: On a scale from 1 to 10, how would you rate your mood today?  8\n",
      "Question 2: Do you find yourself smiling for no reason?  yes\n",
      "Question 3: Have you done something you love recently?  yes\n",
      "Question 4: Do you feel like dancing right now? (yes or no)  yes\n",
      "Question 5: What's the first thing that comes to mind when you hear the word 'joy'?  unquantified happiness\n",
      "Question 6: If you were a color today, what color would you be?  brown\n"
     ]
    },
    {
     "name": "stdout",
     "output_type": "stream",
     "text": [
      "\n",
      "You're super happy! Keep spreading the joy! 🌟\n",
      "Thanks for playing the Happiness Detector! Stay happy!\n"
     ]
    }
   ],
   "source": [
    "def are_you_happy():\n",
    "    import random\n",
    "    #question is a list\n",
    "    \n",
    "    questions = [\n",
    "        \"On a scale from 1 to 10, how would you rate your mood today?\",\n",
    "        \"Do you find yourself smiling for no reason?\",\n",
    "        \"Have you done something you love recently?\",\n",
    "        \"Do you feel like dancing right now? (yes or no)\",\n",
    "        \"What's the first thing that comes to mind when you hear the word 'joy'?\",\n",
    "        \"If you were a color today, what color would you be?\"\n",
    "    ]\n",
    "    #printing 2 strings\n",
    "    \n",
    "    print(\"Welcome to the Happiness Detector!\")\n",
    "    print(\"Answer the following questions to find out if you're happy:\")\n",
    "    \n",
    "    score = 0       #to initialize a variable, by giving it an empty value.\n",
    "    \n",
    "    # Ask questions\n",
    "    #loop through the list, for every  item in list\n",
    "    for i, question in enumerate(questions):\n",
    "        answer = input(f\"Question {i+1}: {question} \")\n",
    "        #i+1 means auto increment\n",
    "        \n",
    "        #when 'input' is in use, we are trying to get response from users.\n",
    "        \n",
    "        # Simple scoring logic\n",
    "        if \"yes\" in answer.lower():\n",
    "            score += 2\n",
    "        elif \"no\" in answer.lower():\n",
    "            score -= 1\n",
    "        else:\n",
    "            score += random.randint(0, 1)\n",
    "    \n",
    "    # Determine happiness level\n",
    "    #the use of '\\n' means go to new line \n",
    "    if score > 5:\n",
    "        print(\"\\nYou're super happy! Keep spreading the joy! 🌟\")\n",
    "    elif 0 <= score <= 5:\n",
    "        print(\"\\nYou're moderately happy! A little more cheer and you'll be on cloud nine! 😊\")\n",
    "    else:\n",
    "        print(\"\\nYou seem to be a bit down. Maybe a good movie or some chocolate will help? 🍫\")\n",
    "        \n",
    "    print(\"Thanks for playing the Happiness Detector! Stay happy!\")\n",
    "\n",
    "# Run the function\n",
    "are_you_happy()"
   ]
  },
  {
   "cell_type": "code",
   "execution_count": 18,
   "id": "5adef9bf-540d-4669-9145-cf6b4f09566b",
   "metadata": {},
   "outputs": [
    {
     "name": "stdout",
     "output_type": "stream",
     "text": [
      "the final answer is:['train', 'matt', 7053, 'boys', 'town', 'london']\n",
      "the final answer is:['train', 'matt', 7053, 'boys', 'town', 'london']\n",
      "the final answer is:['train', 'matt', 7053, 'boys', 'town', 'london']\n",
      "the final answer is:['train', 'matt', 7053, 'boys', 'town', 'london']\n",
      "the final answer is:['train', 'matt', 7053, 'boys', 'town', 'london']\n",
      "the final answer is:['train', 'matt', 7053, 'boys', 'town', 'london']\n"
     ]
    }
   ],
   "source": [
    "list = ['train','matt',7053,'boys','town','london']\n",
    "for i in list:\n",
    "    print(f'the final answer is:{list}')\n",
    "#'i' is important when using the 'for loop'\n",
    "    "
   ]
  },
  {
   "cell_type": "code",
   "execution_count": 20,
   "id": "795bc681-2916-47cd-b490-994cba4a471c",
   "metadata": {},
   "outputs": [
    {
     "name": "stdout",
     "output_type": "stream",
     "text": [
      " i love to code\n"
     ]
    }
   ],
   "source": [
    "a = ' I LOVE TO CODE'\n",
    "b = a.lower()\n",
    "print(b)"
   ]
  },
  {
   "cell_type": "code",
   "execution_count": 25,
   "id": "1ff896b8-71e4-4a97-bbc0-6be417c44ba5",
   "metadata": {},
   "outputs": [
    {
     "name": "stdout",
     "output_type": "stream",
     "text": [
      "757\n"
     ]
    }
   ],
   "source": [
    "import random\n",
    "print(random.randint(200,1000))"
   ]
  },
  {
   "cell_type": "code",
   "execution_count": null,
   "id": "74a5ee14-d9a1-442e-8c20-213a9ddaad8c",
   "metadata": {},
   "outputs": [],
   "source": []
  },
  {
   "cell_type": "code",
   "execution_count": 1,
   "id": "6b536a6d-ec31-4762-b0f4-786cebe81edc",
   "metadata": {},
   "outputs": [
    {
     "name": "stdout",
     "output_type": "stream",
     "text": [
      "Welcome to your most beautiful season!\n",
      "Answer the following questions to find out if you're ready for summer:\n"
     ]
    },
    {
     "name": "stdin",
     "output_type": "stream",
     "text": [
      "Question 1: On a scale from 1 to 10, how sure are you it will not rain soon?  8\n",
      "Question 2: Do you find the weather friendly?  yes\n",
      "Question 3: when last did you enjoy a breezing weather at the beach?  a while now\n",
      "Question 4: Do you love it when raining or sunny? (yes or no)  yes\n",
      "Question 5: What's the first thing that comes to mind when you hear the word 'summer'?  beach\n",
      "Question 6: If you were a color today, what color would you be?  brown\n"
     ]
    },
    {
     "name": "stdout",
     "output_type": "stream",
     "text": [
      "\n",
      "You're moderately happy! A little more cheer and you'll be on cloud nine! 😊\n",
      "Thanks for playing the weather forcast game! Stay happy!\n"
     ]
    }
   ],
   "source": [
    "def weather_forcast():\n",
    "    import random\n",
    "    #question is a list\n",
    "    \n",
    "    questions = [\n",
    "        \"On a scale from 1 to 10, how sure are you it will not rain soon?\",\n",
    "        \"Do you find the weather friendly?\",\n",
    "        \"when last did you enjoy a breezing weather at the beach?\",\n",
    "        \"Do you love it when raining or sunny? (yes or no)\",\n",
    "        \"What's the first thing that comes to mind when you hear the word 'summer'?\",\n",
    "        \"If you were a color today, what color would you be?\"\n",
    "    ]\n",
    "    #printing 2 strings\n",
    "    \n",
    "    print(\"Welcome to your most beautiful season!\")\n",
    "    print(\"Answer the following questions to find out if you're ready for summer:\")\n",
    "    \n",
    "    score = 0       #to initialize a variable, by giving it an empty value.\n",
    "    \n",
    "    # Ask questions\n",
    "    #loop through the list, for every  item in list\n",
    "    for i, question in enumerate(questions):\n",
    "        answer = input(f\"Question {i+1}: {question} \")\n",
    "        #i+1 means auto increment\n",
    "        \n",
    "        #when 'input' is in use, we are trying to get response from users.\n",
    "        \n",
    "        # Simple scoring logic\n",
    "        if \"yes\" in answer.lower():\n",
    "            score += 2\n",
    "        elif \"no\" in answer.lower():\n",
    "            score -= 1\n",
    "        else:\n",
    "            score += random.randint(0, 1)\n",
    "    \n",
    "    # Determine happiness level\n",
    "    #the use of '\\n' means go to new line \n",
    "    if score > 5:\n",
    "        print(\"\\nYou're super ready for summern! Keep spreading the joy! 🌟\")\n",
    "    elif 0 <= score <= 5:\n",
    "        print(\"\\nYou're moderately happy! A little more cheer and you'll be on cloud nine! 😊\")\n",
    "    else:\n",
    "        print(\"\\nYou seem to be a bit down. Maybe a good movie or some chocolate will help? 🍫\")\n",
    "        \n",
    "    print(\"Thanks for playing the weather forcast game! Stay happy!\")\n",
    "\n",
    "# Run the function\n",
    "weather_forcast()"
   ]
  },
  {
   "cell_type": "code",
   "execution_count": null,
   "id": "ac463a8e-de48-48e8-b54d-b783f6255364",
   "metadata": {},
   "outputs": [],
   "source": []
  }
 ],
 "metadata": {
  "kernelspec": {
   "display_name": "Python 3 (ipykernel)",
   "language": "python",
   "name": "python3"
  },
  "language_info": {
   "codemirror_mode": {
    "name": "ipython",
    "version": 3
   },
   "file_extension": ".py",
   "mimetype": "text/x-python",
   "name": "python",
   "nbconvert_exporter": "python",
   "pygments_lexer": "ipython3",
   "version": "3.12.3"
  }
 },
 "nbformat": 4,
 "nbformat_minor": 5
}
